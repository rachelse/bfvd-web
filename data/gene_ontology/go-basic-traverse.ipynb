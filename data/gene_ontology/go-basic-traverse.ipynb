{
 "cells": [
  {
   "cell_type": "code",
   "execution_count": 2,
   "metadata": {},
   "outputs": [],
   "source": [
    "f = open(\"./child_parent.tsv\")\n",
    "\n",
    "paths = {}\n",
    "while True:\n",
    "  line = f.readline().strip()\n",
    "\n",
    "  if not line:\n",
    "    break\n",
    "\n",
    "  tokens = line.split()\n",
    "  child = tokens[0]\n",
    "  parents = tokens[1].split(';')\n",
    "\n",
    "  paths[child] = parents[:-1]\n",
    "\n",
    "f.close()"
   ]
  },
  {
   "cell_type": "code",
   "execution_count": 3,
   "metadata": {},
   "outputs": [],
   "source": [
    "mapping = {}\n",
    "\n",
    "def traverse(cur):\n",
    "  if cur in mapping:\n",
    "    return mapping[cur]\n",
    "  \n",
    "  parents = []\n",
    "  \n",
    "  if not cur in paths:\n",
    "    return []\n",
    "  \n",
    "  for next in paths[cur]:\n",
    "    ele = traverse(next)\n",
    "    parents += ele\n",
    "\n",
    "  parents += paths[cur]\n",
    "  mapping[cur] = list(set(parents))\n",
    "  return mapping[cur]"
   ]
  },
  {
   "cell_type": "code",
   "execution_count": 4,
   "metadata": {},
   "outputs": [],
   "source": [
    "for child in paths.keys():\n",
    "  traverse(child)"
   ]
  },
  {
   "cell_type": "code",
   "execution_count": 10,
   "metadata": {},
   "outputs": [],
   "source": [
    "f = open('./go-child_parents.tsv', 'w')\n",
    "\n",
    "f.write('child,parents\\n')\n",
    "for child, val in mapping.items():\n",
    "  string = \";\".join(val)\n",
    "  f.write(f\"{child},{string}\\n\")\n",
    "\n",
    "f.close()"
   ]
  },
  {
   "cell_type": "code",
   "execution_count": 11,
   "metadata": {},
   "outputs": [],
   "source": [
    "mapping_parent_children = {}\n",
    "\n",
    "for child, vals in mapping.items():\n",
    "  for val in vals:\n",
    "    if val in mapping_parent_children:\n",
    "      mapping_parent_children[val] += [child]\n",
    "    else:\n",
    "      mapping_parent_children[val] = [child]"
   ]
  },
  {
   "cell_type": "code",
   "execution_count": 12,
   "metadata": {},
   "outputs": [],
   "source": [
    "f = open('./go-parent_children.tsv', 'w')\n",
    "\n",
    "f.write('parent,children\\n')\n",
    "for parent, val in mapping_parent_children.items():\n",
    "  string = \";\".join(val)\n",
    "  f.write(f\"{parent},{string}\\n\")\n",
    "\n",
    "f.close()"
   ]
  },
  {
   "cell_type": "code",
   "execution_count": null,
   "metadata": {},
   "outputs": [],
   "source": []
  }
 ],
 "metadata": {
  "kernelspec": {
   "display_name": "tutorial",
   "language": "python",
   "name": "python3"
  },
  "language_info": {
   "codemirror_mode": {
    "name": "ipython",
    "version": 3
   },
   "file_extension": ".py",
   "mimetype": "text/x-python",
   "name": "python",
   "nbconvert_exporter": "python",
   "pygments_lexer": "ipython3",
   "version": "3.10.6"
  },
  "orig_nbformat": 4
 },
 "nbformat": 4,
 "nbformat_minor": 2
}
